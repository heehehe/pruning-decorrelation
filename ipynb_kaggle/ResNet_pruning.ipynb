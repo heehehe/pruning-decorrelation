{
 "cells": [
  {
   "cell_type": "code",
   "execution_count": 1,
   "metadata": {
    "_cell_guid": "78bb3247-f8c9-4167-a9fd-980feb0aac02",
    "_uuid": "05fa2907-27a8-4281-a91b-86b4c25221fd",
    "execution": {
     "iopub.execute_input": "2020-10-25T21:10:44.358563Z",
     "iopub.status.busy": "2020-10-25T21:10:44.357616Z",
     "iopub.status.idle": "2020-10-25T21:10:46.392579Z",
     "shell.execute_reply": "2020-10-25T21:10:46.391021Z"
    },
    "papermill": {
     "duration": 2.054921,
     "end_time": "2020-10-25T21:10:46.392722",
     "exception": false,
     "start_time": "2020-10-25T21:10:44.337801",
     "status": "completed"
    },
    "tags": []
   },
   "outputs": [],
   "source": [
    "import time\n",
    "import random\n",
    "import pathlib\n",
    "from os.path import isfile\n",
    "import copy\n",
    "import sys\n",
    "\n",
    "import numpy as np\n",
    "import cv2\n",
    "\n",
    "import torch\n",
    "import torch.nn as nn\n",
    "import torch.nn.functional as F\n",
    "import torch.optim as optim\n",
    "import torch.backends.cudnn as cudnn\n",
    "\n",
    "from torch.autograd import Variable\n",
    "import torchvision\n",
    "import torchvision.transforms as transforms\n",
    "\n",
    "from resnet_mask import *\n",
    "from utils import *"
   ]
  },
  {
   "cell_type": "code",
   "execution_count": 2,
   "metadata": {
    "execution": {
     "iopub.execute_input": "2020-10-25T21:10:46.766307Z",
     "iopub.status.busy": "2020-10-25T21:10:46.765629Z",
     "iopub.status.idle": "2020-10-25T21:10:46.773988Z",
     "shell.execute_reply": "2020-10-25T21:10:46.773164Z"
    },
    "papermill": {
     "duration": 0.36858,
     "end_time": "2020-10-25T21:10:46.774103",
     "exception": false,
     "start_time": "2020-10-25T21:10:46.405523",
     "status": "completed"
    },
    "tags": []
   },
   "outputs": [],
   "source": [
    "device = 'cuda' if torch.cuda.is_available() else 'cpu'\n",
    "\n",
    "torch.manual_seed(777)\n",
    "if device =='cuda':\n",
    "    torch.cuda.manual_seed_all(777)"
   ]
  },
  {
   "cell_type": "code",
   "execution_count": 3,
   "metadata": {
    "execution": {
     "iopub.execute_input": "2020-10-25T21:10:46.809325Z",
     "iopub.status.busy": "2020-10-25T21:10:46.807294Z",
     "iopub.status.idle": "2020-10-25T21:10:46.810175Z",
     "shell.execute_reply": "2020-10-25T21:10:46.810676Z"
    },
    "papermill": {
     "duration": 0.02507,
     "end_time": "2020-10-25T21:10:46.810810",
     "exception": false,
     "start_time": "2020-10-25T21:10:46.785740",
     "status": "completed"
    },
    "tags": []
   },
   "outputs": [],
   "source": [
    "## args\n",
    "layers = 56\n",
    "prune_type = 'structured'\n",
    "prune_rate = 0.9\n",
    "prune_imp = 'L2'\n",
    "epochs = 300\n",
    "batch_size = 128\n",
    "lr = 0.2\n",
    "momentum = 0.9\n",
    "wd = 1e-4\n",
    "\n",
    "cfgs = {\n",
    "    '18':  (BasicBlock, [2, 2, 2, 2]),\n",
    "    '34':  (BasicBlock, [3, 4, 6, 3]),\n",
    "    '50':  (Bottleneck, [3, 4, 6, 3]),\n",
    "    '101': (Bottleneck, [3, 4, 23, 3]),\n",
    "    '152': (Bottleneck, [3, 8, 36, 3]),\n",
    "}\n",
    "cfgs_cifar = {\n",
    "    '20':  [3, 3, 3],\n",
    "    '32':  [5, 5, 5],\n",
    "    '44':  [7, 7, 7],\n",
    "    '56':  [9, 9, 9],\n",
    "    '110': [18, 18, 18],\n",
    "}"
   ]
  },
  {
   "cell_type": "code",
   "execution_count": 4,
   "metadata": {
    "execution": {
     "iopub.execute_input": "2020-10-25T21:10:46.845060Z",
     "iopub.status.busy": "2020-10-25T21:10:46.844432Z",
     "iopub.status.idle": "2020-10-25T21:10:52.293695Z",
     "shell.execute_reply": "2020-10-25T21:10:52.294613Z"
    },
    "papermill": {
     "duration": 5.472332,
     "end_time": "2020-10-25T21:10:52.294853",
     "exception": false,
     "start_time": "2020-10-25T21:10:46.822521",
     "status": "completed"
    },
    "tags": []
   },
   "outputs": [
    {
     "name": "stdout",
     "output_type": "stream",
     "text": [
      "Downloading https://www.cs.toronto.edu/~kriz/cifar-10-python.tar.gz to ./data/cifar-10-python.tar.gz\n"
     ]
    },
    {
     "data": {
      "application/vnd.jupyter.widget-view+json": {
       "model_id": "8cccc59c65484ad39105afdf02850841",
       "version_major": 2,
       "version_minor": 0
      },
      "text/plain": [
       "HBox(children=(FloatProgress(value=1.0, bar_style='info', max=1.0), HTML(value='')))"
      ]
     },
     "metadata": {},
     "output_type": "display_data"
    },
    {
     "name": "stdout",
     "output_type": "stream",
     "text": [
      "Extracting ./data/cifar-10-python.tar.gz to ./data\n"
     ]
    },
    {
     "name": "stdout",
     "output_type": "stream",
     "text": [
      "Files already downloaded and verified\n"
     ]
    }
   ],
   "source": [
    "train_data_mean = (0.5, 0.5, 0.5)\n",
    "train_data_std = (0.5, 0.5, 0.5)\n",
    "\n",
    "transform_train = transforms.Compose([\n",
    "    transforms.RandomCrop(32, padding=4),\n",
    "    transforms.ToTensor(),\n",
    "    transforms.Normalize(train_data_mean, train_data_std)\n",
    "])\n",
    "\n",
    "transform_test = transforms.Compose([\n",
    "    transforms.ToTensor(),\n",
    "    transforms.Normalize(train_data_mean, train_data_std)\n",
    "])\n",
    "\n",
    "trainset = torchvision.datasets.CIFAR10(root='./data', train=True, download=True, transform=transform_train)\n",
    "trainloader = torch.utils.data.DataLoader(trainset, batch_size=256, shuffle=True, num_workers=4)\n",
    "testset = torchvision.datasets.CIFAR10(root='./data', train=False, download=True, transform=transform_test)\n",
    "testloader = torch.utils.data.DataLoader(testset, batch_size=256, shuffle=False, num_workers=4)\n",
    "\n",
    "classes = ('plane','car','bird','cat','deer','dog','frog','horse','ship','truck')"
   ]
  },
  {
   "cell_type": "code",
   "execution_count": 5,
   "metadata": {
    "execution": {
     "iopub.execute_input": "2020-10-25T21:10:52.330284Z",
     "iopub.status.busy": "2020-10-25T21:10:52.329473Z",
     "iopub.status.idle": "2020-10-25T21:10:57.704235Z",
     "shell.execute_reply": "2020-10-25T21:10:57.704737Z"
    },
    "papermill": {
     "duration": 5.393679,
     "end_time": "2020-10-25T21:10:57.704898",
     "exception": false,
     "start_time": "2020-10-25T21:10:52.311219",
     "status": "completed"
    },
    "tags": []
   },
   "outputs": [],
   "source": [
    "model = ResNet_CIFAR(BasicBlock, cfgs_cifar['56'], 10).to(device)\n",
    "image_size = 32"
   ]
  },
  {
   "cell_type": "code",
   "execution_count": 6,
   "metadata": {
    "execution": {
     "iopub.execute_input": "2020-10-25T21:10:57.901691Z",
     "iopub.status.busy": "2020-10-25T21:10:57.899571Z",
     "iopub.status.idle": "2020-10-25T21:10:57.902477Z",
     "shell.execute_reply": "2020-10-25T21:10:57.903050Z"
    },
    "papermill": {
     "duration": 0.183921,
     "end_time": "2020-10-25T21:10:57.903194",
     "exception": false,
     "start_time": "2020-10-25T21:10:57.719273",
     "status": "completed"
    },
    "tags": []
   },
   "outputs": [],
   "source": [
    "criterion = nn.CrossEntropyLoss().to(device)\n",
    "optimizer = optim.SGD(model.parameters(), lr=lr,\n",
    "                            momentum=momentum, weight_decay=wd) #nesterov=args.nesterov)\n",
    "lr_sche = optim.lr_scheduler.StepLR(optimizer, step_size=10, gamma=0.5)"
   ]
  },
  {
   "cell_type": "code",
   "execution_count": 7,
   "metadata": {
    "execution": {
     "iopub.execute_input": "2020-10-25T21:10:57.945714Z",
     "iopub.status.busy": "2020-10-25T21:10:57.945085Z"
    },
    "papermill": {
     "duration": null,
     "end_time": null,
     "exception": false,
     "start_time": "2020-10-25T21:10:57.918211",
     "status": "running"
    },
    "tags": []
   },
   "outputs": [
    {
     "name": "stdout",
     "output_type": "stream",
     "text": [
      "train 0 ====> Acc@1 17.148 Acc@5 66.014\n"
     ]
    },
    {
     "name": "stdout",
     "output_type": "stream",
     "text": [
      "valid 0 ====> Acc@1 16.760 Acc@5 69.480\n"
     ]
    },
    {
     "name": "stdout",
     "output_type": "stream",
     "text": [
      "train 1 ====> Acc@1 33.094 Acc@5 86.082\n"
     ]
    },
    {
     "name": "stdout",
     "output_type": "stream",
     "text": [
      "valid 1 ====> Acc@1 41.350 Acc@5 90.360\n"
     ]
    },
    {
     "name": "stdout",
     "output_type": "stream",
     "text": [
      "train 2 ====> Acc@1 44.942 Acc@5 91.710\n"
     ]
    },
    {
     "name": "stdout",
     "output_type": "stream",
     "text": [
      "valid 2 ====> Acc@1 48.860 Acc@5 94.280\n"
     ]
    },
    {
     "name": "stdout",
     "output_type": "stream",
     "text": [
      "train 3 ====> Acc@1 56.512 Acc@5 94.978\n"
     ]
    },
    {
     "name": "stdout",
     "output_type": "stream",
     "text": [
      "valid 3 ====> Acc@1 61.160 Acc@5 96.450\n"
     ]
    },
    {
     "name": "stdout",
     "output_type": "stream",
     "text": [
      "train 4 ====> Acc@1 66.582 Acc@5 97.204\n"
     ]
    },
    {
     "name": "stdout",
     "output_type": "stream",
     "text": [
      "valid 4 ====> Acc@1 47.070 Acc@5 89.340\n"
     ]
    },
    {
     "name": "stdout",
     "output_type": "stream",
     "text": [
      "train 5 ====> Acc@1 72.636 Acc@5 98.002\n"
     ]
    },
    {
     "name": "stdout",
     "output_type": "stream",
     "text": [
      "valid 5 ====> Acc@1 67.500 Acc@5 97.510\n"
     ]
    },
    {
     "name": "stdout",
     "output_type": "stream",
     "text": [
      "train 6 ====> Acc@1 76.064 Acc@5 98.488\n"
     ]
    },
    {
     "name": "stdout",
     "output_type": "stream",
     "text": [
      "valid 6 ====> Acc@1 70.480 Acc@5 98.010\n"
     ]
    },
    {
     "name": "stdout",
     "output_type": "stream",
     "text": [
      "train 7 ====> Acc@1 79.022 Acc@5 98.820\n"
     ]
    },
    {
     "name": "stdout",
     "output_type": "stream",
     "text": [
      "valid 7 ====> Acc@1 70.120 Acc@5 98.220\n"
     ]
    },
    {
     "name": "stdout",
     "output_type": "stream",
     "text": [
      "train 8 ====> Acc@1 80.780 Acc@5 98.984\n"
     ]
    },
    {
     "name": "stdout",
     "output_type": "stream",
     "text": [
      "valid 8 ====> Acc@1 74.270 Acc@5 97.540\n"
     ]
    },
    {
     "name": "stdout",
     "output_type": "stream",
     "text": [
      "train 9 ====> Acc@1 82.676 Acc@5 99.232\n"
     ]
    },
    {
     "name": "stdout",
     "output_type": "stream",
     "text": [
      "valid 9 ====> Acc@1 77.310 Acc@5 98.360\n"
     ]
    },
    {
     "name": "stdout",
     "output_type": "stream",
     "text": [
      "train 10 ====> Acc@1 83.562 Acc@5 99.230\n"
     ]
    },
    {
     "name": "stdout",
     "output_type": "stream",
     "text": [
      "valid 10 ====> Acc@1 78.530 Acc@5 98.330\n"
     ]
    },
    {
     "name": "stdout",
     "output_type": "stream",
     "text": [
      "train 11 ====> Acc@1 84.676 Acc@5 99.352\n"
     ]
    },
    {
     "name": "stdout",
     "output_type": "stream",
     "text": [
      "valid 11 ====> Acc@1 77.830 Acc@5 98.650\n"
     ]
    },
    {
     "name": "stdout",
     "output_type": "stream",
     "text": [
      "train 12 ====> Acc@1 85.672 Acc@5 99.432\n"
     ]
    },
    {
     "name": "stdout",
     "output_type": "stream",
     "text": [
      "valid 12 ====> Acc@1 78.770 Acc@5 98.810\n"
     ]
    },
    {
     "name": "stdout",
     "output_type": "stream",
     "text": [
      "train 13 ====> Acc@1 86.406 Acc@5 99.516\n"
     ]
    },
    {
     "name": "stdout",
     "output_type": "stream",
     "text": [
      "valid 13 ====> Acc@1 81.040 Acc@5 99.100\n"
     ]
    },
    {
     "name": "stdout",
     "output_type": "stream",
     "text": [
      "train 14 ====> Acc@1 87.082 Acc@5 99.578\n"
     ]
    },
    {
     "name": "stdout",
     "output_type": "stream",
     "text": [
      "valid 14 ====> Acc@1 82.030 Acc@5 99.070\n"
     ]
    },
    {
     "name": "stdout",
     "output_type": "stream",
     "text": [
      "train 15 ====> Acc@1 87.758 Acc@5 99.638\n"
     ]
    },
    {
     "name": "stdout",
     "output_type": "stream",
     "text": [
      "valid 15 ====> Acc@1 81.150 Acc@5 99.020\n"
     ]
    },
    {
     "name": "stdout",
     "output_type": "stream",
     "text": [
      "train 16 ====> Acc@1 88.168 Acc@5 99.642\n"
     ]
    },
    {
     "name": "stdout",
     "output_type": "stream",
     "text": [
      "valid 16 ====> Acc@1 79.520 Acc@5 98.810\n"
     ]
    },
    {
     "name": "stdout",
     "output_type": "stream",
     "text": [
      "train 17 ====> Acc@1 88.780 Acc@5 99.710\n"
     ]
    },
    {
     "name": "stdout",
     "output_type": "stream",
     "text": [
      "valid 17 ====> Acc@1 81.790 Acc@5 98.960\n"
     ]
    },
    {
     "name": "stdout",
     "output_type": "stream",
     "text": [
      "train 18 ====> Acc@1 89.314 Acc@5 99.724\n"
     ]
    },
    {
     "name": "stdout",
     "output_type": "stream",
     "text": [
      "valid 18 ====> Acc@1 79.610 Acc@5 98.850\n"
     ]
    },
    {
     "name": "stdout",
     "output_type": "stream",
     "text": [
      "train 19 ====> Acc@1 89.876 Acc@5 99.724\n"
     ]
    },
    {
     "name": "stdout",
     "output_type": "stream",
     "text": [
      "valid 19 ====> Acc@1 81.280 Acc@5 98.690\n"
     ]
    },
    {
     "name": "stdout",
     "output_type": "stream",
     "text": [
      "train 20 ====> Acc@1 90.332 Acc@5 99.776\n"
     ]
    },
    {
     "name": "stdout",
     "output_type": "stream",
     "text": [
      "valid 20 ====> Acc@1 82.410 Acc@5 98.780\n"
     ]
    },
    {
     "name": "stdout",
     "output_type": "stream",
     "text": [
      "train 21 ====> Acc@1 90.382 Acc@5 99.762\n"
     ]
    },
    {
     "name": "stdout",
     "output_type": "stream",
     "text": [
      "valid 21 ====> Acc@1 81.630 Acc@5 99.090\n"
     ]
    },
    {
     "name": "stdout",
     "output_type": "stream",
     "text": [
      "train 22 ====> Acc@1 90.674 Acc@5 99.802\n"
     ]
    },
    {
     "name": "stdout",
     "output_type": "stream",
     "text": [
      "valid 22 ====> Acc@1 77.080 Acc@5 98.180\n"
     ]
    },
    {
     "name": "stdout",
     "output_type": "stream",
     "text": [
      "train 23 ====> Acc@1 91.024 Acc@5 99.810\n"
     ]
    },
    {
     "name": "stdout",
     "output_type": "stream",
     "text": [
      "valid 23 ====> Acc@1 80.050 Acc@5 98.640\n"
     ]
    },
    {
     "name": "stdout",
     "output_type": "stream",
     "text": [
      "train 24 ====> Acc@1 91.578 Acc@5 99.838\n"
     ]
    },
    {
     "name": "stdout",
     "output_type": "stream",
     "text": [
      "valid 24 ====> Acc@1 82.200 Acc@5 98.580\n"
     ]
    },
    {
     "name": "stdout",
     "output_type": "stream",
     "text": [
      "train 25 ====> Acc@1 91.772 Acc@5 99.846\n"
     ]
    },
    {
     "name": "stdout",
     "output_type": "stream",
     "text": [
      "valid 25 ====> Acc@1 84.290 Acc@5 99.270\n"
     ]
    },
    {
     "name": "stdout",
     "output_type": "stream",
     "text": [
      "train 26 ====> Acc@1 91.818 Acc@5 99.842\n"
     ]
    },
    {
     "name": "stdout",
     "output_type": "stream",
     "text": [
      "valid 26 ====> Acc@1 81.680 Acc@5 99.150\n"
     ]
    },
    {
     "name": "stdout",
     "output_type": "stream",
     "text": [
      "train 27 ====> Acc@1 91.826 Acc@5 99.850\n"
     ]
    },
    {
     "name": "stdout",
     "output_type": "stream",
     "text": [
      "valid 27 ====> Acc@1 82.260 Acc@5 99.020\n"
     ]
    },
    {
     "name": "stdout",
     "output_type": "stream",
     "text": [
      "train 28 ====> Acc@1 92.406 Acc@5 99.902\n"
     ]
    },
    {
     "name": "stdout",
     "output_type": "stream",
     "text": [
      "valid 28 ====> Acc@1 78.220 Acc@5 98.620\n"
     ]
    },
    {
     "name": "stdout",
     "output_type": "stream",
     "text": [
      "train 29 ====> Acc@1 92.518 Acc@5 99.886\n"
     ]
    },
    {
     "name": "stdout",
     "output_type": "stream",
     "text": [
      "valid 29 ====> Acc@1 77.580 Acc@5 98.630\n"
     ]
    },
    {
     "name": "stdout",
     "output_type": "stream",
     "text": [
      "train 30 ====> Acc@1 92.574 Acc@5 99.878\n"
     ]
    },
    {
     "name": "stdout",
     "output_type": "stream",
     "text": [
      "valid 30 ====> Acc@1 85.670 Acc@5 99.440\n"
     ]
    },
    {
     "name": "stdout",
     "output_type": "stream",
     "text": [
      "train 31 ====> Acc@1 92.876 Acc@5 99.902\n"
     ]
    },
    {
     "name": "stdout",
     "output_type": "stream",
     "text": [
      "valid 31 ====> Acc@1 82.320 Acc@5 99.230\n"
     ]
    },
    {
     "name": "stdout",
     "output_type": "stream",
     "text": [
      "train 32 ====> Acc@1 92.766 Acc@5 99.878\n"
     ]
    },
    {
     "name": "stdout",
     "output_type": "stream",
     "text": [
      "valid 32 ====> Acc@1 84.790 Acc@5 99.380\n"
     ]
    },
    {
     "name": "stdout",
     "output_type": "stream",
     "text": [
      "train 33 ====> Acc@1 92.892 Acc@5 99.932\n"
     ]
    },
    {
     "name": "stdout",
     "output_type": "stream",
     "text": [
      "valid 33 ====> Acc@1 83.730 Acc@5 99.410\n"
     ]
    },
    {
     "name": "stdout",
     "output_type": "stream",
     "text": [
      "train 34 ====> Acc@1 93.390 Acc@5 99.928\n"
     ]
    },
    {
     "name": "stdout",
     "output_type": "stream",
     "text": [
      "valid 34 ====> Acc@1 79.700 Acc@5 99.020\n"
     ]
    },
    {
     "name": "stdout",
     "output_type": "stream",
     "text": [
      "train 35 ====> Acc@1 93.278 Acc@5 99.912\n"
     ]
    },
    {
     "name": "stdout",
     "output_type": "stream",
     "text": [
      "valid 35 ====> Acc@1 81.110 Acc@5 99.130\n"
     ]
    },
    {
     "name": "stdout",
     "output_type": "stream",
     "text": [
      "train 36 ====> Acc@1 93.724 Acc@5 99.942\n"
     ]
    },
    {
     "name": "stdout",
     "output_type": "stream",
     "text": [
      "valid 36 ====> Acc@1 85.550 Acc@5 99.270\n"
     ]
    },
    {
     "name": "stdout",
     "output_type": "stream",
     "text": [
      "train 37 ====> Acc@1 93.784 Acc@5 99.912\n"
     ]
    },
    {
     "name": "stdout",
     "output_type": "stream",
     "text": [
      "valid 37 ====> Acc@1 82.850 Acc@5 99.190\n"
     ]
    },
    {
     "name": "stdout",
     "output_type": "stream",
     "text": [
      "train 38 ====> Acc@1 93.824 Acc@5 99.922\n"
     ]
    },
    {
     "name": "stdout",
     "output_type": "stream",
     "text": [
      "valid 38 ====> Acc@1 83.640 Acc@5 99.210\n"
     ]
    },
    {
     "name": "stdout",
     "output_type": "stream",
     "text": [
      "train 39 ====> Acc@1 93.804 Acc@5 99.936\n"
     ]
    },
    {
     "name": "stdout",
     "output_type": "stream",
     "text": [
      "valid 39 ====> Acc@1 82.620 Acc@5 99.220\n"
     ]
    },
    {
     "name": "stdout",
     "output_type": "stream",
     "text": [
      "train 40 ====> Acc@1 93.826 Acc@5 99.928\n"
     ]
    },
    {
     "name": "stdout",
     "output_type": "stream",
     "text": [
      "valid 40 ====> Acc@1 81.350 Acc@5 98.820\n"
     ]
    },
    {
     "name": "stdout",
     "output_type": "stream",
     "text": [
      "train 41 ====> Acc@1 94.070 Acc@5 99.942\n"
     ]
    },
    {
     "name": "stdout",
     "output_type": "stream",
     "text": [
      "valid 41 ====> Acc@1 84.470 Acc@5 99.150\n"
     ]
    },
    {
     "name": "stdout",
     "output_type": "stream",
     "text": [
      "train 42 ====> Acc@1 93.916 Acc@5 99.930\n"
     ]
    },
    {
     "name": "stdout",
     "output_type": "stream",
     "text": [
      "valid 42 ====> Acc@1 82.590 Acc@5 98.540\n"
     ]
    },
    {
     "name": "stdout",
     "output_type": "stream",
     "text": [
      "train 43 ====> Acc@1 94.002 Acc@5 99.942\n"
     ]
    },
    {
     "name": "stdout",
     "output_type": "stream",
     "text": [
      "valid 43 ====> Acc@1 84.120 Acc@5 99.290\n"
     ]
    },
    {
     "name": "stdout",
     "output_type": "stream",
     "text": [
      "train 44 ====> Acc@1 94.170 Acc@5 99.948\n"
     ]
    },
    {
     "name": "stdout",
     "output_type": "stream",
     "text": [
      "valid 44 ====> Acc@1 85.200 Acc@5 99.200\n"
     ]
    },
    {
     "name": "stdout",
     "output_type": "stream",
     "text": [
      "train 45 ====> Acc@1 94.742 Acc@5 99.956\n"
     ]
    },
    {
     "name": "stdout",
     "output_type": "stream",
     "text": [
      "valid 45 ====> Acc@1 83.630 Acc@5 99.160\n"
     ]
    },
    {
     "name": "stdout",
     "output_type": "stream",
     "text": [
      "train 46 ====> Acc@1 94.112 Acc@5 99.926\n"
     ]
    },
    {
     "name": "stdout",
     "output_type": "stream",
     "text": [
      "valid 46 ====> Acc@1 83.040 Acc@5 98.900\n"
     ]
    },
    {
     "name": "stdout",
     "output_type": "stream",
     "text": [
      "train 47 ====> Acc@1 94.684 Acc@5 99.960\n"
     ]
    },
    {
     "name": "stdout",
     "output_type": "stream",
     "text": [
      "valid 47 ====> Acc@1 80.970 Acc@5 99.100\n"
     ]
    },
    {
     "name": "stdout",
     "output_type": "stream",
     "text": [
      "train 48 ====> Acc@1 94.206 Acc@5 99.958\n"
     ]
    },
    {
     "name": "stdout",
     "output_type": "stream",
     "text": [
      "valid 48 ====> Acc@1 85.150 Acc@5 99.340\n"
     ]
    },
    {
     "name": "stdout",
     "output_type": "stream",
     "text": [
      "train 49 ====> Acc@1 94.590 Acc@5 99.950\n"
     ]
    },
    {
     "name": "stdout",
     "output_type": "stream",
     "text": [
      "valid 49 ====> Acc@1 80.160 Acc@5 98.960\n"
     ]
    },
    {
     "name": "stdout",
     "output_type": "stream",
     "text": [
      "train 50 ====> Acc@1 94.478 Acc@5 99.972\n"
     ]
    },
    {
     "name": "stdout",
     "output_type": "stream",
     "text": [
      "valid 50 ====> Acc@1 84.860 Acc@5 99.190\n"
     ]
    },
    {
     "name": "stdout",
     "output_type": "stream",
     "text": [
      "train 51 ====> Acc@1 94.634 Acc@5 99.956\n"
     ]
    },
    {
     "name": "stdout",
     "output_type": "stream",
     "text": [
      "valid 51 ====> Acc@1 83.270 Acc@5 99.010\n"
     ]
    },
    {
     "name": "stdout",
     "output_type": "stream",
     "text": [
      "train 52 ====> Acc@1 94.620 Acc@5 99.950\n"
     ]
    },
    {
     "name": "stdout",
     "output_type": "stream",
     "text": [
      "valid 52 ====> Acc@1 77.950 Acc@5 98.700\n"
     ]
    },
    {
     "name": "stdout",
     "output_type": "stream",
     "text": [
      "train 53 ====> Acc@1 94.862 Acc@5 99.954\n"
     ]
    },
    {
     "name": "stdout",
     "output_type": "stream",
     "text": [
      "valid 53 ====> Acc@1 83.950 Acc@5 99.150\n"
     ]
    },
    {
     "name": "stdout",
     "output_type": "stream",
     "text": [
      "train 54 ====> Acc@1 95.000 Acc@5 99.974\n"
     ]
    },
    {
     "name": "stdout",
     "output_type": "stream",
     "text": [
      "valid 54 ====> Acc@1 82.640 Acc@5 98.790\n"
     ]
    },
    {
     "name": "stdout",
     "output_type": "stream",
     "text": [
      "train 55 ====> Acc@1 94.878 Acc@5 99.962\n"
     ]
    },
    {
     "name": "stdout",
     "output_type": "stream",
     "text": [
      "valid 55 ====> Acc@1 83.240 Acc@5 99.150\n"
     ]
    },
    {
     "name": "stdout",
     "output_type": "stream",
     "text": [
      "train 56 ====> Acc@1 95.194 Acc@5 99.972\n"
     ]
    },
    {
     "name": "stdout",
     "output_type": "stream",
     "text": [
      "valid 56 ====> Acc@1 85.570 Acc@5 99.430\n"
     ]
    },
    {
     "name": "stdout",
     "output_type": "stream",
     "text": [
      "train 57 ====> Acc@1 94.820 Acc@5 99.962\n"
     ]
    },
    {
     "name": "stdout",
     "output_type": "stream",
     "text": [
      "valid 57 ====> Acc@1 85.330 Acc@5 99.110\n"
     ]
    },
    {
     "name": "stdout",
     "output_type": "stream",
     "text": [
      "train 58 ====> Acc@1 95.228 Acc@5 99.964\n"
     ]
    },
    {
     "name": "stdout",
     "output_type": "stream",
     "text": [
      "valid 58 ====> Acc@1 84.050 Acc@5 99.000\n"
     ]
    },
    {
     "name": "stdout",
     "output_type": "stream",
     "text": [
      "train 59 ====> Acc@1 95.132 Acc@5 99.966\n"
     ]
    },
    {
     "name": "stdout",
     "output_type": "stream",
     "text": [
      "valid 59 ====> Acc@1 84.160 Acc@5 99.010\n"
     ]
    },
    {
     "name": "stdout",
     "output_type": "stream",
     "text": [
      "train 60 ====> Acc@1 94.710 Acc@5 99.950\n"
     ]
    },
    {
     "name": "stdout",
     "output_type": "stream",
     "text": [
      "valid 60 ====> Acc@1 84.420 Acc@5 99.320\n"
     ]
    },
    {
     "name": "stdout",
     "output_type": "stream",
     "text": [
      "train 61 ====> Acc@1 94.980 Acc@5 99.968\n"
     ]
    },
    {
     "name": "stdout",
     "output_type": "stream",
     "text": [
      "valid 61 ====> Acc@1 84.870 Acc@5 99.250\n"
     ]
    },
    {
     "name": "stdout",
     "output_type": "stream",
     "text": [
      "train 62 ====> Acc@1 95.234 Acc@5 99.974\n"
     ]
    },
    {
     "name": "stdout",
     "output_type": "stream",
     "text": [
      "valid 62 ====> Acc@1 84.140 Acc@5 99.410\n"
     ]
    },
    {
     "name": "stdout",
     "output_type": "stream",
     "text": [
      "train 63 ====> Acc@1 95.068 Acc@5 99.968\n"
     ]
    },
    {
     "name": "stdout",
     "output_type": "stream",
     "text": [
      "valid 63 ====> Acc@1 84.850 Acc@5 99.160\n"
     ]
    },
    {
     "name": "stdout",
     "output_type": "stream",
     "text": [
      "train 64 ====> Acc@1 95.424 Acc@5 99.960\n"
     ]
    },
    {
     "name": "stdout",
     "output_type": "stream",
     "text": [
      "valid 64 ====> Acc@1 84.060 Acc@5 99.390\n"
     ]
    },
    {
     "name": "stdout",
     "output_type": "stream",
     "text": [
      "train 65 ====> Acc@1 95.244 Acc@5 99.974\n"
     ]
    },
    {
     "name": "stdout",
     "output_type": "stream",
     "text": [
      "valid 65 ====> Acc@1 83.310 Acc@5 98.910\n"
     ]
    },
    {
     "name": "stdout",
     "output_type": "stream",
     "text": [
      "train 66 ====> Acc@1 95.396 Acc@5 99.958\n"
     ]
    },
    {
     "name": "stdout",
     "output_type": "stream",
     "text": [
      "valid 66 ====> Acc@1 85.950 Acc@5 99.410\n"
     ]
    },
    {
     "name": "stdout",
     "output_type": "stream",
     "text": [
      "train 67 ====> Acc@1 95.436 Acc@5 99.966\n"
     ]
    },
    {
     "name": "stdout",
     "output_type": "stream",
     "text": [
      "valid 67 ====> Acc@1 82.150 Acc@5 98.900\n"
     ]
    },
    {
     "name": "stdout",
     "output_type": "stream",
     "text": [
      "train 68 ====> Acc@1 95.394 Acc@5 99.970\n"
     ]
    },
    {
     "name": "stdout",
     "output_type": "stream",
     "text": [
      "valid 68 ====> Acc@1 80.650 Acc@5 98.440\n"
     ]
    },
    {
     "name": "stdout",
     "output_type": "stream",
     "text": [
      "train 69 ====> Acc@1 95.308 Acc@5 99.968\n"
     ]
    },
    {
     "name": "stdout",
     "output_type": "stream",
     "text": [
      "valid 69 ====> Acc@1 84.040 Acc@5 99.250\n"
     ]
    },
    {
     "name": "stdout",
     "output_type": "stream",
     "text": [
      "train 70 ====> Acc@1 95.700 Acc@5 99.980\n"
     ]
    },
    {
     "name": "stdout",
     "output_type": "stream",
     "text": [
      "valid 70 ====> Acc@1 84.210 Acc@5 99.030\n"
     ]
    },
    {
     "name": "stdout",
     "output_type": "stream",
     "text": [
      "train 71 ====> Acc@1 95.296 Acc@5 99.970\n"
     ]
    },
    {
     "name": "stdout",
     "output_type": "stream",
     "text": [
      "valid 71 ====> Acc@1 83.460 Acc@5 99.250\n"
     ]
    },
    {
     "name": "stdout",
     "output_type": "stream",
     "text": [
      "train 72 ====> Acc@1 95.614 Acc@5 99.976\n"
     ]
    },
    {
     "name": "stdout",
     "output_type": "stream",
     "text": [
      "valid 72 ====> Acc@1 83.870 Acc@5 99.310\n"
     ]
    },
    {
     "name": "stdout",
     "output_type": "stream",
     "text": [
      "train 73 ====> Acc@1 95.448 Acc@5 99.968\n"
     ]
    },
    {
     "name": "stdout",
     "output_type": "stream",
     "text": [
      "valid 73 ====> Acc@1 83.510 Acc@5 99.160\n"
     ]
    },
    {
     "name": "stdout",
     "output_type": "stream",
     "text": [
      "train 74 ====> Acc@1 95.838 Acc@5 99.970\n"
     ]
    },
    {
     "name": "stdout",
     "output_type": "stream",
     "text": [
      "valid 74 ====> Acc@1 84.320 Acc@5 99.330\n"
     ]
    },
    {
     "name": "stdout",
     "output_type": "stream",
     "text": [
      "train 75 ====> Acc@1 95.784 Acc@5 99.978\n"
     ]
    },
    {
     "name": "stdout",
     "output_type": "stream",
     "text": [
      "valid 75 ====> Acc@1 82.340 Acc@5 99.230\n"
     ]
    },
    {
     "name": "stdout",
     "output_type": "stream",
     "text": [
      "train 76 ====> Acc@1 95.512 Acc@5 99.976\n"
     ]
    },
    {
     "name": "stdout",
     "output_type": "stream",
     "text": [
      "valid 76 ====> Acc@1 85.500 Acc@5 99.310\n"
     ]
    },
    {
     "name": "stdout",
     "output_type": "stream",
     "text": [
      "train 77 ====> Acc@1 95.602 Acc@5 99.968\n"
     ]
    },
    {
     "name": "stdout",
     "output_type": "stream",
     "text": [
      "valid 77 ====> Acc@1 86.060 Acc@5 99.280\n"
     ]
    },
    {
     "name": "stdout",
     "output_type": "stream",
     "text": [
      "train 78 ====> Acc@1 95.626 Acc@5 99.974\n"
     ]
    },
    {
     "name": "stdout",
     "output_type": "stream",
     "text": [
      "valid 78 ====> Acc@1 82.350 Acc@5 99.270\n"
     ]
    },
    {
     "name": "stdout",
     "output_type": "stream",
     "text": [
      "train 79 ====> Acc@1 95.682 Acc@5 99.980\n"
     ]
    },
    {
     "name": "stdout",
     "output_type": "stream",
     "text": [
      "valid 79 ====> Acc@1 86.090 Acc@5 99.300\n"
     ]
    },
    {
     "name": "stdout",
     "output_type": "stream",
     "text": [
      "train 80 ====> Acc@1 95.458 Acc@5 99.974\n"
     ]
    },
    {
     "name": "stdout",
     "output_type": "stream",
     "text": [
      "valid 80 ====> Acc@1 81.490 Acc@5 99.260\n"
     ]
    },
    {
     "name": "stdout",
     "output_type": "stream",
     "text": [
      "train 81 ====> Acc@1 95.374 Acc@5 99.968\n"
     ]
    },
    {
     "name": "stdout",
     "output_type": "stream",
     "text": [
      "valid 81 ====> Acc@1 84.940 Acc@5 99.300\n"
     ]
    },
    {
     "name": "stdout",
     "output_type": "stream",
     "text": [
      "train 82 ====> Acc@1 95.418 Acc@5 99.978\n"
     ]
    },
    {
     "name": "stdout",
     "output_type": "stream",
     "text": [
      "valid 82 ====> Acc@1 80.100 Acc@5 98.360\n"
     ]
    },
    {
     "name": "stdout",
     "output_type": "stream",
     "text": [
      "train 83 ====> Acc@1 95.586 Acc@5 99.976\n"
     ]
    },
    {
     "name": "stdout",
     "output_type": "stream",
     "text": [
      "valid 83 ====> Acc@1 85.990 Acc@5 99.370\n"
     ]
    },
    {
     "name": "stdout",
     "output_type": "stream",
     "text": [
      "train 84 ====> Acc@1 95.578 Acc@5 99.982\n"
     ]
    },
    {
     "name": "stdout",
     "output_type": "stream",
     "text": [
      "valid 84 ====> Acc@1 84.650 Acc@5 99.390\n"
     ]
    },
    {
     "name": "stdout",
     "output_type": "stream",
     "text": [
      "train 85 ====> Acc@1 95.450 Acc@5 99.966\n"
     ]
    },
    {
     "name": "stdout",
     "output_type": "stream",
     "text": [
      "valid 85 ====> Acc@1 83.690 Acc@5 99.280\n"
     ]
    },
    {
     "name": "stdout",
     "output_type": "stream",
     "text": [
      "train 86 ====> Acc@1 95.704 Acc@5 99.982\n"
     ]
    },
    {
     "name": "stdout",
     "output_type": "stream",
     "text": [
      "valid 86 ====> Acc@1 82.990 Acc@5 99.310\n"
     ]
    },
    {
     "name": "stdout",
     "output_type": "stream",
     "text": [
      "train 87 ====> Acc@1 95.820 Acc@5 99.968\n"
     ]
    },
    {
     "name": "stdout",
     "output_type": "stream",
     "text": [
      "valid 87 ====> Acc@1 85.780 Acc@5 99.190\n"
     ]
    },
    {
     "name": "stdout",
     "output_type": "stream",
     "text": [
      "train 88 ====> Acc@1 95.796 Acc@5 99.964\n"
     ]
    },
    {
     "name": "stdout",
     "output_type": "stream",
     "text": [
      "valid 88 ====> Acc@1 83.930 Acc@5 99.020\n"
     ]
    },
    {
     "name": "stdout",
     "output_type": "stream",
     "text": [
      "train 89 ====> Acc@1 95.518 Acc@5 99.968\n"
     ]
    },
    {
     "name": "stdout",
     "output_type": "stream",
     "text": [
      "valid 89 ====> Acc@1 84.600 Acc@5 99.170\n"
     ]
    },
    {
     "name": "stdout",
     "output_type": "stream",
     "text": [
      "train 90 ====> Acc@1 95.898 Acc@5 99.982\n"
     ]
    },
    {
     "name": "stdout",
     "output_type": "stream",
     "text": [
      "valid 90 ====> Acc@1 83.770 Acc@5 98.950\n"
     ]
    },
    {
     "name": "stdout",
     "output_type": "stream",
     "text": [
      "train 91 ====> Acc@1 95.642 Acc@5 99.978\n"
     ]
    },
    {
     "name": "stdout",
     "output_type": "stream",
     "text": [
      "valid 91 ====> Acc@1 85.140 Acc@5 99.290\n"
     ]
    },
    {
     "name": "stdout",
     "output_type": "stream",
     "text": [
      "train 92 ====> Acc@1 95.816 Acc@5 99.980\n"
     ]
    },
    {
     "name": "stdout",
     "output_type": "stream",
     "text": [
      "valid 92 ====> Acc@1 84.200 Acc@5 99.120\n"
     ]
    },
    {
     "name": "stdout",
     "output_type": "stream",
     "text": [
      "train 93 ====> Acc@1 95.944 Acc@5 99.970\n"
     ]
    },
    {
     "name": "stdout",
     "output_type": "stream",
     "text": [
      "valid 93 ====> Acc@1 84.620 Acc@5 99.200\n"
     ]
    },
    {
     "name": "stdout",
     "output_type": "stream",
     "text": [
      "train 94 ====> Acc@1 96.052 Acc@5 99.992\n"
     ]
    },
    {
     "name": "stdout",
     "output_type": "stream",
     "text": [
      "valid 94 ====> Acc@1 84.190 Acc@5 99.380\n"
     ]
    },
    {
     "name": "stdout",
     "output_type": "stream",
     "text": [
      "train 95 ====> Acc@1 96.004 Acc@5 99.988\n"
     ]
    },
    {
     "name": "stdout",
     "output_type": "stream",
     "text": [
      "valid 95 ====> Acc@1 85.040 Acc@5 99.210\n"
     ]
    },
    {
     "name": "stdout",
     "output_type": "stream",
     "text": [
      "train 96 ====> Acc@1 95.984 Acc@5 99.980\n"
     ]
    },
    {
     "name": "stdout",
     "output_type": "stream",
     "text": [
      "valid 96 ====> Acc@1 84.380 Acc@5 99.280\n"
     ]
    },
    {
     "name": "stdout",
     "output_type": "stream",
     "text": [
      "train 97 ====> Acc@1 95.980 Acc@5 99.982\n"
     ]
    },
    {
     "name": "stdout",
     "output_type": "stream",
     "text": [
      "valid 97 ====> Acc@1 82.970 Acc@5 98.690\n"
     ]
    },
    {
     "name": "stdout",
     "output_type": "stream",
     "text": [
      "train 98 ====> Acc@1 95.854 Acc@5 99.974\n"
     ]
    },
    {
     "name": "stdout",
     "output_type": "stream",
     "text": [
      "valid 98 ====> Acc@1 85.240 Acc@5 99.330\n"
     ]
    },
    {
     "name": "stdout",
     "output_type": "stream",
     "text": [
      "train 99 ====> Acc@1 96.268 Acc@5 99.986\n"
     ]
    },
    {
     "name": "stdout",
     "output_type": "stream",
     "text": [
      "valid 99 ====> Acc@1 84.140 Acc@5 99.460\n"
     ]
    },
    {
     "name": "stdout",
     "output_type": "stream",
     "text": [
      "train 100 ====> Acc@1 95.684 Acc@5 99.974\n"
     ]
    },
    {
     "name": "stdout",
     "output_type": "stream",
     "text": [
      "valid 100 ====> Acc@1 84.660 Acc@5 98.940\n"
     ]
    },
    {
     "name": "stdout",
     "output_type": "stream",
     "text": [
      "train 101 ====> Acc@1 95.786 Acc@5 99.988\n"
     ]
    },
    {
     "name": "stdout",
     "output_type": "stream",
     "text": [
      "valid 101 ====> Acc@1 85.950 Acc@5 99.390\n"
     ]
    },
    {
     "name": "stdout",
     "output_type": "stream",
     "text": [
      "train 102 ====> Acc@1 96.202 Acc@5 99.980\n"
     ]
    },
    {
     "name": "stdout",
     "output_type": "stream",
     "text": [
      "valid 102 ====> Acc@1 86.980 Acc@5 99.590\n"
     ]
    },
    {
     "name": "stdout",
     "output_type": "stream",
     "text": [
      "train 103 ====> Acc@1 96.124 Acc@5 99.972\n"
     ]
    },
    {
     "name": "stdout",
     "output_type": "stream",
     "text": [
      "valid 103 ====> Acc@1 80.510 Acc@5 98.650\n"
     ]
    },
    {
     "name": "stdout",
     "output_type": "stream",
     "text": [
      "train 104 ====> Acc@1 95.704 Acc@5 99.972\n"
     ]
    },
    {
     "name": "stdout",
     "output_type": "stream",
     "text": [
      "valid 104 ====> Acc@1 82.360 Acc@5 99.230\n"
     ]
    },
    {
     "name": "stdout",
     "output_type": "stream",
     "text": [
      "train 105 ====> Acc@1 96.050 Acc@5 99.976\n"
     ]
    },
    {
     "name": "stdout",
     "output_type": "stream",
     "text": [
      "valid 105 ====> Acc@1 84.150 Acc@5 99.320\n"
     ]
    },
    {
     "name": "stdout",
     "output_type": "stream",
     "text": [
      "train 106 ====> Acc@1 95.732 Acc@5 99.984\n"
     ]
    },
    {
     "name": "stdout",
     "output_type": "stream",
     "text": [
      "valid 106 ====> Acc@1 83.530 Acc@5 99.140\n"
     ]
    },
    {
     "name": "stdout",
     "output_type": "stream",
     "text": [
      "train 107 ====> Acc@1 96.038 Acc@5 99.978\n"
     ]
    },
    {
     "name": "stdout",
     "output_type": "stream",
     "text": [
      "valid 107 ====> Acc@1 81.510 Acc@5 98.990\n"
     ]
    },
    {
     "name": "stdout",
     "output_type": "stream",
     "text": [
      "train 108 ====> Acc@1 96.148 Acc@5 99.986\n"
     ]
    },
    {
     "name": "stdout",
     "output_type": "stream",
     "text": [
      "valid 108 ====> Acc@1 86.030 Acc@5 99.300\n"
     ]
    },
    {
     "name": "stdout",
     "output_type": "stream",
     "text": [
      "train 109 ====> Acc@1 96.032 Acc@5 99.976\n"
     ]
    },
    {
     "name": "stdout",
     "output_type": "stream",
     "text": [
      "valid 109 ====> Acc@1 87.160 Acc@5 99.450\n"
     ]
    },
    {
     "name": "stdout",
     "output_type": "stream",
     "text": [
      "train 110 ====> Acc@1 96.106 Acc@5 99.972\n"
     ]
    },
    {
     "name": "stdout",
     "output_type": "stream",
     "text": [
      "valid 110 ====> Acc@1 85.330 Acc@5 99.290\n"
     ]
    },
    {
     "name": "stdout",
     "output_type": "stream",
     "text": [
      "train 111 ====> Acc@1 96.176 Acc@5 99.980\n"
     ]
    },
    {
     "name": "stdout",
     "output_type": "stream",
     "text": [
      "valid 111 ====> Acc@1 86.310 Acc@5 98.860\n"
     ]
    },
    {
     "name": "stdout",
     "output_type": "stream",
     "text": [
      "train 112 ====> Acc@1 95.860 Acc@5 99.986\n"
     ]
    },
    {
     "name": "stdout",
     "output_type": "stream",
     "text": [
      "valid 112 ====> Acc@1 81.040 Acc@5 98.800\n"
     ]
    },
    {
     "name": "stdout",
     "output_type": "stream",
     "text": [
      "train 113 ====> Acc@1 96.086 Acc@5 99.982\n"
     ]
    },
    {
     "name": "stdout",
     "output_type": "stream",
     "text": [
      "valid 113 ====> Acc@1 84.320 Acc@5 99.230\n"
     ]
    },
    {
     "name": "stdout",
     "output_type": "stream",
     "text": [
      "train 114 ====> Acc@1 95.934 Acc@5 99.986\n"
     ]
    },
    {
     "name": "stdout",
     "output_type": "stream",
     "text": [
      "valid 114 ====> Acc@1 85.500 Acc@5 99.240\n"
     ]
    },
    {
     "name": "stdout",
     "output_type": "stream",
     "text": [
      "train 115 ====> Acc@1 95.954 Acc@5 99.978\n"
     ]
    },
    {
     "name": "stdout",
     "output_type": "stream",
     "text": [
      "valid 115 ====> Acc@1 84.250 Acc@5 99.140\n"
     ]
    },
    {
     "name": "stdout",
     "output_type": "stream",
     "text": [
      "train 116 ====> Acc@1 95.906 Acc@5 99.984\n"
     ]
    },
    {
     "name": "stdout",
     "output_type": "stream",
     "text": [
      "valid 116 ====> Acc@1 84.640 Acc@5 99.340\n"
     ]
    },
    {
     "name": "stdout",
     "output_type": "stream",
     "text": [
      "train 117 ====> Acc@1 95.650 Acc@5 99.976\n"
     ]
    },
    {
     "name": "stdout",
     "output_type": "stream",
     "text": [
      "valid 117 ====> Acc@1 83.500 Acc@5 99.230\n"
     ]
    },
    {
     "name": "stdout",
     "output_type": "stream",
     "text": [
      "train 118 ====> Acc@1 96.284 Acc@5 99.988\n"
     ]
    },
    {
     "name": "stdout",
     "output_type": "stream",
     "text": [
      "valid 118 ====> Acc@1 87.090 Acc@5 99.540\n"
     ]
    },
    {
     "name": "stdout",
     "output_type": "stream",
     "text": [
      "train 119 ====> Acc@1 95.804 Acc@5 99.978\n"
     ]
    },
    {
     "name": "stdout",
     "output_type": "stream",
     "text": [
      "valid 119 ====> Acc@1 85.560 Acc@5 99.250\n"
     ]
    },
    {
     "name": "stdout",
     "output_type": "stream",
     "text": [
      "train 120 ====> Acc@1 96.524 Acc@5 99.970\n"
     ]
    },
    {
     "name": "stdout",
     "output_type": "stream",
     "text": [
      "valid 120 ====> Acc@1 86.270 Acc@5 99.180\n"
     ]
    },
    {
     "name": "stdout",
     "output_type": "stream",
     "text": [
      "train 121 ====> Acc@1 96.272 Acc@5 99.976\n"
     ]
    },
    {
     "name": "stdout",
     "output_type": "stream",
     "text": [
      "valid 121 ====> Acc@1 85.650 Acc@5 99.280\n"
     ]
    },
    {
     "name": "stdout",
     "output_type": "stream",
     "text": [
      "train 122 ====> Acc@1 96.152 Acc@5 99.976\n"
     ]
    },
    {
     "name": "stdout",
     "output_type": "stream",
     "text": [
      "valid 122 ====> Acc@1 84.150 Acc@5 98.880\n"
     ]
    },
    {
     "name": "stdout",
     "output_type": "stream",
     "text": [
      "train 123 ====> Acc@1 96.230 Acc@5 99.986\n"
     ]
    },
    {
     "name": "stdout",
     "output_type": "stream",
     "text": [
      "valid 123 ====> Acc@1 84.990 Acc@5 99.150\n"
     ]
    },
    {
     "name": "stdout",
     "output_type": "stream",
     "text": [
      "train 124 ====> Acc@1 96.056 Acc@5 99.984\n"
     ]
    },
    {
     "name": "stdout",
     "output_type": "stream",
     "text": [
      "valid 124 ====> Acc@1 84.950 Acc@5 99.420\n"
     ]
    },
    {
     "name": "stdout",
     "output_type": "stream",
     "text": [
      "train 125 ====> Acc@1 96.234 Acc@5 99.978\n"
     ]
    },
    {
     "name": "stdout",
     "output_type": "stream",
     "text": [
      "valid 125 ====> Acc@1 85.670 Acc@5 99.270\n"
     ]
    },
    {
     "name": "stdout",
     "output_type": "stream",
     "text": [
      "train 126 ====> Acc@1 95.906 Acc@5 99.980\n"
     ]
    },
    {
     "name": "stdout",
     "output_type": "stream",
     "text": [
      "valid 126 ====> Acc@1 86.080 Acc@5 99.420\n"
     ]
    },
    {
     "name": "stdout",
     "output_type": "stream",
     "text": [
      "train 127 ====> Acc@1 96.192 Acc@5 99.980\n"
     ]
    },
    {
     "name": "stdout",
     "output_type": "stream",
     "text": [
      "valid 127 ====> Acc@1 86.560 Acc@5 99.450\n"
     ]
    },
    {
     "name": "stdout",
     "output_type": "stream",
     "text": [
      "train 128 ====> Acc@1 96.326 Acc@5 99.994\n"
     ]
    },
    {
     "name": "stdout",
     "output_type": "stream",
     "text": [
      "valid 128 ====> Acc@1 85.000 Acc@5 99.380\n"
     ]
    },
    {
     "name": "stdout",
     "output_type": "stream",
     "text": [
      "train 129 ====> Acc@1 96.316 Acc@5 99.986\n"
     ]
    },
    {
     "name": "stdout",
     "output_type": "stream",
     "text": [
      "valid 129 ====> Acc@1 85.670 Acc@5 99.490\n"
     ]
    },
    {
     "name": "stdout",
     "output_type": "stream",
     "text": [
      "train 130 ====> Acc@1 96.200 Acc@5 99.972\n"
     ]
    },
    {
     "name": "stdout",
     "output_type": "stream",
     "text": [
      "valid 130 ====> Acc@1 85.950 Acc@5 99.380\n"
     ]
    },
    {
     "name": "stdout",
     "output_type": "stream",
     "text": [
      "train 131 ====> Acc@1 95.874 Acc@5 99.974\n"
     ]
    },
    {
     "name": "stdout",
     "output_type": "stream",
     "text": [
      "valid 131 ====> Acc@1 83.810 Acc@5 99.290\n"
     ]
    },
    {
     "name": "stdout",
     "output_type": "stream",
     "text": [
      "train 132 ====> Acc@1 96.398 Acc@5 99.982\n"
     ]
    },
    {
     "name": "stdout",
     "output_type": "stream",
     "text": [
      "valid 132 ====> Acc@1 85.200 Acc@5 99.310\n"
     ]
    },
    {
     "name": "stdout",
     "output_type": "stream",
     "text": [
      "train 133 ====> Acc@1 96.374 Acc@5 99.984\n"
     ]
    },
    {
     "name": "stdout",
     "output_type": "stream",
     "text": [
      "valid 133 ====> Acc@1 86.050 Acc@5 99.430\n"
     ]
    },
    {
     "name": "stdout",
     "output_type": "stream",
     "text": [
      "train 134 ====> Acc@1 96.208 Acc@5 99.970\n"
     ]
    },
    {
     "name": "stdout",
     "output_type": "stream",
     "text": [
      "valid 134 ====> Acc@1 83.400 Acc@5 99.070\n"
     ]
    },
    {
     "name": "stdout",
     "output_type": "stream",
     "text": [
      "train 135 ====> Acc@1 96.290 Acc@5 99.978\n"
     ]
    },
    {
     "name": "stdout",
     "output_type": "stream",
     "text": [
      "valid 135 ====> Acc@1 85.970 Acc@5 99.330\n"
     ]
    },
    {
     "name": "stdout",
     "output_type": "stream",
     "text": [
      "train 136 ====> Acc@1 96.206 Acc@5 99.992\n"
     ]
    },
    {
     "name": "stdout",
     "output_type": "stream",
     "text": [
      "valid 136 ====> Acc@1 85.790 Acc@5 99.430\n"
     ]
    },
    {
     "name": "stdout",
     "output_type": "stream",
     "text": [
      "train 137 ====> Acc@1 96.488 Acc@5 99.988\n"
     ]
    },
    {
     "name": "stdout",
     "output_type": "stream",
     "text": [
      "valid 137 ====> Acc@1 85.600 Acc@5 99.250\n"
     ]
    },
    {
     "name": "stdout",
     "output_type": "stream",
     "text": [
      "train 138 ====> Acc@1 96.246 Acc@5 99.986\n"
     ]
    },
    {
     "name": "stdout",
     "output_type": "stream",
     "text": [
      "valid 138 ====> Acc@1 86.050 Acc@5 99.440\n"
     ]
    },
    {
     "name": "stdout",
     "output_type": "stream",
     "text": [
      "train 139 ====> Acc@1 96.106 Acc@5 99.984\n"
     ]
    },
    {
     "name": "stdout",
     "output_type": "stream",
     "text": [
      "valid 139 ====> Acc@1 85.030 Acc@5 99.070\n"
     ]
    },
    {
     "name": "stdout",
     "output_type": "stream",
     "text": [
      "train 140 ====> Acc@1 96.194 Acc@5 99.990\n"
     ]
    },
    {
     "name": "stdout",
     "output_type": "stream",
     "text": [
      "valid 140 ====> Acc@1 84.480 Acc@5 99.230\n"
     ]
    },
    {
     "name": "stdout",
     "output_type": "stream",
     "text": [
      "train 141 ====> Acc@1 96.200 Acc@5 99.986\n"
     ]
    },
    {
     "name": "stdout",
     "output_type": "stream",
     "text": [
      "valid 141 ====> Acc@1 84.700 Acc@5 98.880\n"
     ]
    },
    {
     "name": "stdout",
     "output_type": "stream",
     "text": [
      "train 142 ====> Acc@1 96.350 Acc@5 99.988\n"
     ]
    },
    {
     "name": "stdout",
     "output_type": "stream",
     "text": [
      "valid 142 ====> Acc@1 81.540 Acc@5 99.080\n"
     ]
    },
    {
     "name": "stdout",
     "output_type": "stream",
     "text": [
      "train 143 ====> Acc@1 95.868 Acc@5 99.978\n"
     ]
    },
    {
     "name": "stdout",
     "output_type": "stream",
     "text": [
      "valid 143 ====> Acc@1 83.350 Acc@5 99.110\n"
     ]
    },
    {
     "name": "stdout",
     "output_type": "stream",
     "text": [
      "train 144 ====> Acc@1 96.268 Acc@5 99.990\n"
     ]
    },
    {
     "name": "stdout",
     "output_type": "stream",
     "text": [
      "valid 144 ====> Acc@1 80.070 Acc@5 98.620\n"
     ]
    },
    {
     "name": "stdout",
     "output_type": "stream",
     "text": [
      "train 145 ====> Acc@1 96.458 Acc@5 99.982\n"
     ]
    },
    {
     "name": "stdout",
     "output_type": "stream",
     "text": [
      "valid 145 ====> Acc@1 81.550 Acc@5 98.880\n"
     ]
    },
    {
     "name": "stdout",
     "output_type": "stream",
     "text": [
      "train 146 ====> Acc@1 95.814 Acc@5 99.986\n"
     ]
    },
    {
     "name": "stdout",
     "output_type": "stream",
     "text": [
      "valid 146 ====> Acc@1 85.990 Acc@5 99.310\n"
     ]
    },
    {
     "name": "stdout",
     "output_type": "stream",
     "text": [
      "train 147 ====> Acc@1 96.484 Acc@5 99.986\n"
     ]
    },
    {
     "name": "stdout",
     "output_type": "stream",
     "text": [
      "valid 147 ====> Acc@1 85.430 Acc@5 99.300\n"
     ]
    },
    {
     "name": "stdout",
     "output_type": "stream",
     "text": [
      "train 148 ====> Acc@1 96.024 Acc@5 99.974\n"
     ]
    },
    {
     "name": "stdout",
     "output_type": "stream",
     "text": [
      "valid 148 ====> Acc@1 85.560 Acc@5 99.280\n"
     ]
    },
    {
     "name": "stdout",
     "output_type": "stream",
     "text": [
      "train 149 ====> Acc@1 96.286 Acc@5 99.986\n"
     ]
    },
    {
     "name": "stdout",
     "output_type": "stream",
     "text": [
      "valid 149 ====> Acc@1 84.530 Acc@5 98.870\n"
     ]
    },
    {
     "name": "stdout",
     "output_type": "stream",
     "text": [
      "train 150 ====> Acc@1 96.204 Acc@5 99.970\n"
     ]
    },
    {
     "name": "stdout",
     "output_type": "stream",
     "text": [
      "valid 150 ====> Acc@1 86.230 Acc@5 99.420\n"
     ]
    },
    {
     "name": "stdout",
     "output_type": "stream",
     "text": [
      "train 151 ====> Acc@1 96.298 Acc@5 99.974\n"
     ]
    },
    {
     "name": "stdout",
     "output_type": "stream",
     "text": [
      "valid 151 ====> Acc@1 85.540 Acc@5 99.230\n"
     ]
    },
    {
     "name": "stdout",
     "output_type": "stream",
     "text": [
      "train 152 ====> Acc@1 96.220 Acc@5 99.980\n"
     ]
    },
    {
     "name": "stdout",
     "output_type": "stream",
     "text": [
      "valid 152 ====> Acc@1 85.440 Acc@5 99.290\n"
     ]
    },
    {
     "name": "stdout",
     "output_type": "stream",
     "text": [
      "train 153 ====> Acc@1 96.622 Acc@5 99.976\n"
     ]
    },
    {
     "name": "stdout",
     "output_type": "stream",
     "text": [
      "valid 153 ====> Acc@1 87.250 Acc@5 99.130\n"
     ]
    },
    {
     "name": "stdout",
     "output_type": "stream",
     "text": [
      "train 154 ====> Acc@1 96.012 Acc@5 99.976\n"
     ]
    },
    {
     "name": "stdout",
     "output_type": "stream",
     "text": [
      "valid 154 ====> Acc@1 85.350 Acc@5 99.220\n"
     ]
    },
    {
     "name": "stdout",
     "output_type": "stream",
     "text": [
      "train 155 ====> Acc@1 96.182 Acc@5 99.978\n"
     ]
    },
    {
     "name": "stdout",
     "output_type": "stream",
     "text": [
      "valid 155 ====> Acc@1 80.110 Acc@5 99.220\n"
     ]
    },
    {
     "name": "stdout",
     "output_type": "stream",
     "text": [
      "train 156 ====> Acc@1 96.364 Acc@5 99.986\n"
     ]
    },
    {
     "name": "stdout",
     "output_type": "stream",
     "text": [
      "valid 156 ====> Acc@1 85.330 Acc@5 99.290\n"
     ]
    },
    {
     "name": "stdout",
     "output_type": "stream",
     "text": [
      "train 157 ====> Acc@1 96.192 Acc@5 99.978\n"
     ]
    },
    {
     "name": "stdout",
     "output_type": "stream",
     "text": [
      "valid 157 ====> Acc@1 85.300 Acc@5 99.350\n"
     ]
    },
    {
     "name": "stdout",
     "output_type": "stream",
     "text": [
      "train 158 ====> Acc@1 96.034 Acc@5 99.974\n"
     ]
    },
    {
     "name": "stdout",
     "output_type": "stream",
     "text": [
      "valid 158 ====> Acc@1 82.260 Acc@5 98.970\n"
     ]
    },
    {
     "name": "stdout",
     "output_type": "stream",
     "text": [
      "train 159 ====> Acc@1 96.850 Acc@5 99.994\n"
     ]
    },
    {
     "name": "stdout",
     "output_type": "stream",
     "text": [
      "valid 159 ====> Acc@1 80.780 Acc@5 98.480\n"
     ]
    },
    {
     "name": "stdout",
     "output_type": "stream",
     "text": [
      "train 160 ====> Acc@1 96.020 Acc@5 99.980\n"
     ]
    },
    {
     "name": "stdout",
     "output_type": "stream",
     "text": [
      "valid 160 ====> Acc@1 85.240 Acc@5 99.200\n"
     ]
    },
    {
     "name": "stdout",
     "output_type": "stream",
     "text": [
      "train 161 ====> Acc@1 96.316 Acc@5 99.978\n"
     ]
    },
    {
     "name": "stdout",
     "output_type": "stream",
     "text": [
      "valid 161 ====> Acc@1 84.940 Acc@5 99.150\n"
     ]
    },
    {
     "name": "stdout",
     "output_type": "stream",
     "text": [
      "train 162 ====> Acc@1 96.400 Acc@5 99.988\n"
     ]
    },
    {
     "name": "stdout",
     "output_type": "stream",
     "text": [
      "valid 162 ====> Acc@1 85.960 Acc@5 99.130\n"
     ]
    },
    {
     "name": "stdout",
     "output_type": "stream",
     "text": [
      "train 163 ====> Acc@1 96.764 Acc@5 99.988\n"
     ]
    },
    {
     "name": "stdout",
     "output_type": "stream",
     "text": [
      "valid 163 ====> Acc@1 84.120 Acc@5 99.150\n"
     ]
    },
    {
     "name": "stdout",
     "output_type": "stream",
     "text": [
      "train 164 ====> Acc@1 96.272 Acc@5 99.978\n"
     ]
    },
    {
     "name": "stdout",
     "output_type": "stream",
     "text": [
      "valid 164 ====> Acc@1 86.210 Acc@5 99.190\n"
     ]
    },
    {
     "name": "stdout",
     "output_type": "stream",
     "text": [
      "train 165 ====> Acc@1 96.076 Acc@5 99.968\n"
     ]
    },
    {
     "name": "stdout",
     "output_type": "stream",
     "text": [
      "valid 165 ====> Acc@1 86.040 Acc@5 99.230\n"
     ]
    },
    {
     "name": "stdout",
     "output_type": "stream",
     "text": [
      "train 166 ====> Acc@1 96.696 Acc@5 99.992\n"
     ]
    },
    {
     "name": "stdout",
     "output_type": "stream",
     "text": [
      "valid 166 ====> Acc@1 83.660 Acc@5 99.280\n"
     ]
    },
    {
     "name": "stdout",
     "output_type": "stream",
     "text": [
      "train 167 ====> Acc@1 96.392 Acc@5 99.984\n"
     ]
    },
    {
     "name": "stdout",
     "output_type": "stream",
     "text": [
      "valid 167 ====> Acc@1 84.100 Acc@5 99.090\n"
     ]
    },
    {
     "name": "stdout",
     "output_type": "stream",
     "text": [
      "train 168 ====> Acc@1 96.374 Acc@5 99.980\n"
     ]
    },
    {
     "name": "stdout",
     "output_type": "stream",
     "text": [
      "valid 168 ====> Acc@1 84.770 Acc@5 99.470\n"
     ]
    },
    {
     "name": "stdout",
     "output_type": "stream",
     "text": [
      "train 169 ====> Acc@1 96.100 Acc@5 99.982\n"
     ]
    },
    {
     "name": "stdout",
     "output_type": "stream",
     "text": [
      "valid 169 ====> Acc@1 84.650 Acc@5 98.970\n"
     ]
    },
    {
     "name": "stdout",
     "output_type": "stream",
     "text": [
      "train 170 ====> Acc@1 96.338 Acc@5 99.978\n"
     ]
    },
    {
     "name": "stdout",
     "output_type": "stream",
     "text": [
      "valid 170 ====> Acc@1 84.810 Acc@5 99.370\n"
     ]
    },
    {
     "name": "stdout",
     "output_type": "stream",
     "text": [
      "train 171 ====> Acc@1 96.340 Acc@5 99.992\n"
     ]
    },
    {
     "name": "stdout",
     "output_type": "stream",
     "text": [
      "valid 171 ====> Acc@1 86.520 Acc@5 99.190\n"
     ]
    },
    {
     "name": "stdout",
     "output_type": "stream",
     "text": [
      "train 172 ====> Acc@1 96.416 Acc@5 99.986\n"
     ]
    },
    {
     "name": "stdout",
     "output_type": "stream",
     "text": [
      "valid 172 ====> Acc@1 84.580 Acc@5 99.180\n"
     ]
    },
    {
     "name": "stdout",
     "output_type": "stream",
     "text": [
      "train 173 ====> Acc@1 96.560 Acc@5 99.986\n"
     ]
    },
    {
     "name": "stdout",
     "output_type": "stream",
     "text": [
      "valid 173 ====> Acc@1 84.750 Acc@5 99.200\n"
     ]
    },
    {
     "name": "stdout",
     "output_type": "stream",
     "text": [
      "train 174 ====> Acc@1 96.442 Acc@5 99.988\n"
     ]
    },
    {
     "name": "stdout",
     "output_type": "stream",
     "text": [
      "valid 174 ====> Acc@1 85.100 Acc@5 99.150\n"
     ]
    },
    {
     "name": "stdout",
     "output_type": "stream",
     "text": [
      "train 175 ====> Acc@1 96.562 Acc@5 99.982\n"
     ]
    },
    {
     "name": "stdout",
     "output_type": "stream",
     "text": [
      "valid 175 ====> Acc@1 87.010 Acc@5 99.380\n"
     ]
    },
    {
     "name": "stdout",
     "output_type": "stream",
     "text": [
      "train 176 ====> Acc@1 96.230 Acc@5 99.970\n"
     ]
    },
    {
     "name": "stdout",
     "output_type": "stream",
     "text": [
      "valid 176 ====> Acc@1 86.650 Acc@5 99.180\n"
     ]
    },
    {
     "name": "stdout",
     "output_type": "stream",
     "text": [
      "train 177 ====> Acc@1 96.138 Acc@5 99.980\n"
     ]
    },
    {
     "name": "stdout",
     "output_type": "stream",
     "text": [
      "valid 177 ====> Acc@1 81.170 Acc@5 99.080\n"
     ]
    },
    {
     "name": "stdout",
     "output_type": "stream",
     "text": [
      "train 178 ====> Acc@1 96.496 Acc@5 99.982\n"
     ]
    },
    {
     "name": "stdout",
     "output_type": "stream",
     "text": [
      "valid 178 ====> Acc@1 86.790 Acc@5 99.440\n"
     ]
    },
    {
     "name": "stdout",
     "output_type": "stream",
     "text": [
      "train 179 ====> Acc@1 96.598 Acc@5 99.990\n"
     ]
    },
    {
     "name": "stdout",
     "output_type": "stream",
     "text": [
      "valid 179 ====> Acc@1 85.870 Acc@5 99.390\n"
     ]
    },
    {
     "name": "stdout",
     "output_type": "stream",
     "text": [
      "train 180 ====> Acc@1 96.314 Acc@5 99.992\n"
     ]
    },
    {
     "name": "stdout",
     "output_type": "stream",
     "text": [
      "valid 180 ====> Acc@1 81.420 Acc@5 99.260\n"
     ]
    },
    {
     "name": "stdout",
     "output_type": "stream",
     "text": [
      "train 181 ====> Acc@1 96.484 Acc@5 99.984\n"
     ]
    },
    {
     "name": "stdout",
     "output_type": "stream",
     "text": [
      "valid 181 ====> Acc@1 84.320 Acc@5 98.750\n"
     ]
    },
    {
     "name": "stdout",
     "output_type": "stream",
     "text": [
      "train 182 ====> Acc@1 96.566 Acc@5 99.978\n"
     ]
    }
   ],
   "source": [
    "##### main 함수 보고 train 짜기\n",
    "best_acc1 = 0.0\n",
    "\n",
    "for epoch in range(epochs):\n",
    "    \n",
    "    acc1_train_cor, acc5_train_cor = train(trainloader, epoch=epoch, model=model, \n",
    "                                           prune={'type':'structured','rate':0.5}, reg=reg_cov, odecay=2,\n",
    "                                           criterion=criterion, optimizer=optimizer, device=device)\n",
    "    acc1_valid_cor, acc5_valid_cor = validate(testloader, epoch=epoch, model=model, \n",
    "                                              criterion=criterion, device=device)\n",
    "    \n",
    "    acc1_train = round(acc1_train_cor.item(), 4)\n",
    "    acc5_train = round(acc5_train_cor.item(), 4)\n",
    "    acc1_valid = round(acc1_valid_cor.item(), 4)\n",
    "    acc5_valid = round(acc5_valid_cor.item(), 4)\n",
    "\n",
    "    # remember best Acc@1 and save checkpoint and summary csv file\n",
    "#     summary = [epoch, acc1_train, acc5_train, acc1_valid, acc5_valid]\n",
    "\n",
    "    is_best = acc1_valid > best_acc1\n",
    "    best_acc1 = max(acc1_valid, best_acc1)\n",
    "    if is_best:\n",
    "        summary = [epoch, acc1_train, acc5_train, acc1_valid, acc5_valid]\n",
    "#         save_model(arch_name, args.dataset, state, args.save)\n",
    "#     save_summary(arch_name, args.dataset, args.save.split('.pth')[0], summary)\n",
    "\n",
    "summary"
   ]
  },
  {
   "cell_type": "code",
   "execution_count": null,
   "metadata": {
    "papermill": {
     "duration": null,
     "end_time": null,
     "exception": null,
     "start_time": null,
     "status": "pending"
    },
    "tags": []
   },
   "outputs": [],
   "source": [
    "# def filter_prune(model, filter_mask):\n",
    "#     idx = 0\n",
    "#     for name, item in model.named_parameters():  \n",
    "#         #.module.named_parameters():\n",
    "#         if len(item.size())==4 and 'mask' in name:\n",
    "#             for i in range(item.size(0)):\n",
    "#                 item.data[i,:,:,:] = 1 if filter_mask[idx] else 0\n",
    "#                 idx += 1"
   ]
  },
  {
   "cell_type": "code",
   "execution_count": null,
   "metadata": {
    "papermill": {
     "duration": null,
     "end_time": null,
     "exception": null,
     "start_time": null,
     "status": "pending"
    },
    "tags": []
   },
   "outputs": [],
   "source": [
    "# losses = AverageMeter('Loss', ':.4e')\n",
    "# top1 = AverageMeter('Acc@1', ':6.2f')\n",
    "# top5 = AverageMeter('Acc@5', ':6.2f')\n",
    "\n",
    "# prune_freq = 16\n",
    "# milestones = [150, 225]\n",
    "\n",
    "# model.train()\n",
    "\n",
    "# for i, (inputs, targets) in enumerate(trainloader):\n",
    "#     inputs = inputs.to(device)\n",
    "#     targets = targets.to(device)\n",
    "\n",
    "#     ### filter_mask = get_filter_mask(model, 0.5)   \n",
    "#     ## 여기에서 64가 나와서 문제였음 (2128이 나와야할거 같은데..?)\n",
    "#     # if (globals()['iterations']+1) % args.prune_freq==0 and (epoch+1) <= args.milestones[1]:\n",
    "#     # 위 부분을 생략하고 진행해서 그런 것 같음\n",
    "#     #and epoch+1 <= milestones[1]:\n",
    "#     #if (i+1) % prune_freq == 0: print('prune start')\n",
    "        \n",
    "#     filter_mask = get_filter_mask(model, 0.5)\n",
    "#     if len(filter_mask) == 2128:\n",
    "#         print('prune start')\n",
    "#         ### filter_prune(model, filter_mask)\n",
    "#         idx = 0\n",
    "#         for name, item in model.named_parameters():\n",
    "#             if len(item.size())==4 and 'mask' in name:\n",
    "#                 for j in range(item.size(0)):\n",
    "#                     item.data[j,:,:,:] = 1 if filter_mask[idx] else 0\n",
    "#                     idx += 1\n",
    "#     if len(filter_mask) != 64:\n",
    "#         print(len(filter_mask))\n",
    "#     # else: print('no pruning since', i+1 % prune_freq)\n",
    "\n",
    "#     outputs = model(inputs)\n",
    "# #     if reg:\n",
    "# #         oloss = reg(model)\n",
    "# #         oloss = odecay * oloss\n",
    "# #         loss = criterion(outputs, targets) + oloss\n",
    "# #     else:\n",
    "#     loss = criterion(outputs, targets)\n",
    "\n",
    "#     acc1, acc5 = accuracy(outputs, targets, topk=(1,5))\n",
    "#     losses.update(loss.item(), inputs.size(0))\n",
    "#     top1.update(acc1[0], inputs.size(0))\n",
    "#     top5.update(acc5[0], inputs.size(0))\n",
    "\n",
    "#     optimizer.zero_grad()\n",
    "#     loss.backward()\n",
    "#     optimizer.step()\n",
    "    \n",
    "#     if i % 20 == 0: print(i, top1.avg, top5.avg)"
   ]
  },
  {
   "cell_type": "code",
   "execution_count": null,
   "metadata": {
    "papermill": {
     "duration": null,
     "end_time": null,
     "exception": null,
     "start_time": null,
     "status": "pending"
    },
    "tags": []
   },
   "outputs": [],
   "source": [
    "# for i in range(10):\n",
    "#     print(globals()['iterations'])"
   ]
  },
  {
   "cell_type": "markdown",
   "metadata": {
    "papermill": {
     "duration": null,
     "end_time": null,
     "exception": null,
     "start_time": null,
     "status": "pending"
    },
    "tags": []
   },
   "source": [
    "### 필터 프루닝 함수 확인"
   ]
  },
  {
   "cell_type": "code",
   "execution_count": null,
   "metadata": {
    "papermill": {
     "duration": null,
     "end_time": null,
     "exception": null,
     "start_time": null,
     "status": "pending"
    },
    "tags": []
   },
   "outputs": [],
   "source": [
    "# importance_all = None\n",
    "# for name, item in model.named_parameters():\n",
    "#     if len(item.size()) == 4 and 'weight' in name:\n",
    "#         filters = item.data.view(item.size(0), -1).cpu()\n",
    "#         weight_len = filters.size(1)\n",
    "#         importance = filters.abs().sum(dim=1).numpy() / weight_len\n",
    "        \n",
    "#         if importance_all is None:\n",
    "#             importance_all = importance\n",
    "#         else:\n",
    "#             importance_all = np.append(importance_all, importance)\n",
    "            \n",
    "# threshold = np.sort(importance_all)[int(len(importance_all) * 0.5)]\n",
    "# filter_mask = np.greater(importance_all, threshold)\n",
    "# print(filter_mask)"
   ]
  },
  {
   "cell_type": "code",
   "execution_count": null,
   "metadata": {
    "papermill": {
     "duration": null,
     "end_time": null,
     "exception": null,
     "start_time": null,
     "status": "pending"
    },
    "tags": []
   },
   "outputs": [],
   "source": [
    "# idx = 0\n",
    "# for name, item in model.named_parameters():  \n",
    "#     #.module.named_parameters():\n",
    "#     if len(item.size())==4 and 'mask' in name:\n",
    "#         for i in range(item.size(0)):\n",
    "#             item.data[i,:,:,:] = 1 if filter_mask[idx] else 0\n",
    "#             idx += 1\n",
    "#             print(item.data[i,:,:,:])\n",
    "        "
   ]
  },
  {
   "cell_type": "code",
   "execution_count": null,
   "metadata": {
    "papermill": {
     "duration": null,
     "end_time": null,
     "exception": null,
     "start_time": null,
     "status": "pending"
    },
    "tags": []
   },
   "outputs": [],
   "source": [
    "# len(filter_mask)"
   ]
  },
  {
   "cell_type": "code",
   "execution_count": null,
   "metadata": {
    "papermill": {
     "duration": null,
     "end_time": null,
     "exception": null,
     "start_time": null,
     "status": "pending"
    },
    "tags": []
   },
   "outputs": [],
   "source": []
  }
 ],
 "metadata": {
  "kernelspec": {
   "display_name": "Python 3",
   "language": "python",
   "name": "python3"
  },
  "language_info": {
   "codemirror_mode": {
    "name": "ipython",
    "version": 3
   },
   "file_extension": ".py",
   "mimetype": "text/x-python",
   "name": "python",
   "nbconvert_exporter": "python",
   "pygments_lexer": "ipython3",
   "version": "3.6.4"
  },
  "papermill": {
   "duration": null,
   "end_time": null,
   "environment_variables": {},
   "exception": null,
   "input_path": "__notebook__.ipynb",
   "output_path": "__notebook__.ipynb",
   "parameters": {},
   "start_time": "2020-10-25T21:10:39.952874",
   "version": "2.1.0"
  }
 },
 "nbformat": 4,
 "nbformat_minor": 4
}