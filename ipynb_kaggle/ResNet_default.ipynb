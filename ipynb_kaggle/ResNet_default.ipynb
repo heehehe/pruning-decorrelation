{
 "cells": [
  {
   "cell_type": "code",
   "execution_count": 1,
   "metadata": {
    "_cell_guid": "78bb3247-f8c9-4167-a9fd-980feb0aac02",
    "_uuid": "05fa2907-27a8-4281-a91b-86b4c25221fd",
    "execution": {
     "iopub.execute_input": "2020-10-25T09:07:08.636159Z",
     "iopub.status.busy": "2020-10-25T09:07:08.635374Z",
     "iopub.status.idle": "2020-10-25T09:07:10.042721Z",
     "shell.execute_reply": "2020-10-25T09:07:10.043403Z"
    },
    "papermill": {
     "duration": 1.426526,
     "end_time": "2020-10-25T09:07:10.043617",
     "exception": false,
     "start_time": "2020-10-25T09:07:08.617091",
     "status": "completed"
    },
    "tags": []
   },
   "outputs": [],
   "source": [
    "import time\n",
    "import random\n",
    "import pathlib\n",
    "from os.path import isfile\n",
    "import copy\n",
    "import sys\n",
    "\n",
    "import numpy as np\n",
    "import cv2\n",
    "\n",
    "import torch\n",
    "import torch.nn as nn\n",
    "import torch.nn.functional as F\n",
    "import torch.optim as optim\n",
    "import torch.backends.cudnn as cudnn\n",
    "\n",
    "from torch.autograd import Variable\n",
    "import torchvision\n",
    "import torchvision.transforms as transforms\n",
    "\n",
    "from resnet_mask import *\n",
    "from utils import *"
   ]
  },
  {
   "cell_type": "code",
   "execution_count": 2,
   "metadata": {
    "execution": {
     "iopub.execute_input": "2020-10-25T09:07:10.067698Z",
     "iopub.status.busy": "2020-10-25T09:07:10.066911Z",
     "iopub.status.idle": "2020-10-25T09:07:10.073112Z",
     "shell.execute_reply": "2020-10-25T09:07:10.072521Z"
    },
    "papermill": {
     "duration": 0.020243,
     "end_time": "2020-10-25T09:07:10.073236",
     "exception": false,
     "start_time": "2020-10-25T09:07:10.052993",
     "status": "completed"
    },
    "tags": []
   },
   "outputs": [],
   "source": [
    "device = 'cuda' if torch.cuda.is_available() else 'cpu'\n",
    "\n",
    "torch.manual_seed(777)\n",
    "if device =='cuda':\n",
    "    torch.cuda.manual_seed_all(777)"
   ]
  },
  {
   "cell_type": "code",
   "execution_count": 3,
   "metadata": {
    "execution": {
     "iopub.execute_input": "2020-10-25T09:07:10.102792Z",
     "iopub.status.busy": "2020-10-25T09:07:10.102050Z",
     "iopub.status.idle": "2020-10-25T09:07:10.106252Z",
     "shell.execute_reply": "2020-10-25T09:07:10.105655Z"
    },
    "papermill": {
     "duration": 0.024517,
     "end_time": "2020-10-25T09:07:10.106392",
     "exception": false,
     "start_time": "2020-10-25T09:07:10.081875",
     "status": "completed"
    },
    "tags": []
   },
   "outputs": [],
   "source": [
    "## args\n",
    "layers = 56\n",
    "prune_type = 'structured'\n",
    "prune_rate = 0.9\n",
    "prune_imp = 'L2'\n",
    "epochs = 300\n",
    "batch_size = 128\n",
    "lr = 0.2\n",
    "momentum = 0.9\n",
    "wd = 1e-4\n",
    "\n",
    "cfgs = {\n",
    "    '18':  (BasicBlock, [2, 2, 2, 2]),\n",
    "    '34':  (BasicBlock, [3, 4, 6, 3]),\n",
    "    '50':  (Bottleneck, [3, 4, 6, 3]),\n",
    "    '101': (Bottleneck, [3, 4, 23, 3]),\n",
    "    '152': (Bottleneck, [3, 8, 36, 3]),\n",
    "}\n",
    "cfgs_cifar = {\n",
    "    '20':  [3, 3, 3],\n",
    "    '32':  [5, 5, 5],\n",
    "    '44':  [7, 7, 7],\n",
    "    '56':  [9, 9, 9],\n",
    "    '110': [18, 18, 18],\n",
    "}"
   ]
  },
  {
   "cell_type": "code",
   "execution_count": 4,
   "metadata": {
    "execution": {
     "iopub.execute_input": "2020-10-25T09:07:10.136552Z",
     "iopub.status.busy": "2020-10-25T09:07:10.135747Z",
     "iopub.status.idle": "2020-10-25T09:07:16.439200Z",
     "shell.execute_reply": "2020-10-25T09:07:16.438404Z"
    },
    "papermill": {
     "duration": 6.323948,
     "end_time": "2020-10-25T09:07:16.439331",
     "exception": false,
     "start_time": "2020-10-25T09:07:10.115383",
     "status": "completed"
    },
    "tags": []
   },
   "outputs": [
    {
     "name": "stdout",
     "output_type": "stream",
     "text": [
      "Downloading https://www.cs.toronto.edu/~kriz/cifar-10-python.tar.gz to ./data/cifar-10-python.tar.gz\n"
     ]
    },
    {
     "data": {
      "application/vnd.jupyter.widget-view+json": {
       "model_id": "2373288368514287b4d98d41dbb86bc2",
       "version_major": 2,
       "version_minor": 0
      },
      "text/plain": [
       "HBox(children=(FloatProgress(value=1.0, bar_style='info', max=1.0), HTML(value='')))"
      ]
     },
     "metadata": {},
     "output_type": "display_data"
    },
    {
     "name": "stdout",
     "output_type": "stream",
     "text": [
      "Extracting ./data/cifar-10-python.tar.gz to ./data\n",
      "Files already downloaded and verified\n"
     ]
    }
   ],
   "source": [
    "train_data_mean = (0.5, 0.5, 0.5)\n",
    "train_data_std = (0.5, 0.5, 0.5)\n",
    "\n",
    "transform_train = transforms.Compose([\n",
    "    transforms.RandomCrop(32, padding=4),\n",
    "    transforms.ToTensor(),\n",
    "    transforms.Normalize(train_data_mean, train_data_std)\n",
    "])\n",
    "\n",
    "transform_test = transforms.Compose([\n",
    "    transforms.ToTensor(),\n",
    "    transforms.Normalize(train_data_mean, train_data_std)\n",
    "])\n",
    "\n",
    "trainset = torchvision.datasets.CIFAR10(root='./data', train=True, download=True, transform=transform_train)\n",
    "trainloader = torch.utils.data.DataLoader(trainset, batch_size=256, shuffle=True, num_workers=4)\n",
    "testset = torchvision.datasets.CIFAR10(root='./data', train=False, download=True, transform=transform_test)\n",
    "testloader = torch.utils.data.DataLoader(testset, batch_size=256, shuffle=False, num_workers=4)\n",
    "\n",
    "classes = ('plane','car','bird','cat','deer','dog','frog','horse','ship','truck')"
   ]
  },
  {
   "cell_type": "code",
   "execution_count": 5,
   "metadata": {
    "execution": {
     "iopub.execute_input": "2020-10-25T09:07:16.467975Z",
     "iopub.status.busy": "2020-10-25T09:07:16.467173Z",
     "iopub.status.idle": "2020-10-25T09:07:16.563666Z",
     "shell.execute_reply": "2020-10-25T09:07:16.562833Z"
    },
    "papermill": {
     "duration": 0.112912,
     "end_time": "2020-10-25T09:07:16.563839",
     "exception": false,
     "start_time": "2020-10-25T09:07:16.450927",
     "status": "completed"
    },
    "tags": []
   },
   "outputs": [],
   "source": [
    "model = ResNet_CIFAR(BasicBlock, cfgs_cifar['56'], 10).to(device)\n",
    "image_size = 32"
   ]
  },
  {
   "cell_type": "code",
   "execution_count": 6,
   "metadata": {
    "execution": {
     "iopub.execute_input": "2020-10-25T09:07:16.598102Z",
     "iopub.status.busy": "2020-10-25T09:07:16.597289Z",
     "iopub.status.idle": "2020-10-25T09:07:16.600923Z",
     "shell.execute_reply": "2020-10-25T09:07:16.600308Z"
    },
    "papermill": {
     "duration": 0.023708,
     "end_time": "2020-10-25T09:07:16.601082",
     "exception": false,
     "start_time": "2020-10-25T09:07:16.577374",
     "status": "completed"
    },
    "tags": []
   },
   "outputs": [],
   "source": [
    "criterion = nn.CrossEntropyLoss().to(device)\n",
    "optimizer = optim.SGD(model.parameters(), lr=lr,\n",
    "                            momentum=momentum, weight_decay=wd) #nesterov=args.nesterov)\n",
    "lr_sche = optim.lr_scheduler.StepLR(optimizer, step_size=10, gamma=0.5)"
   ]
  },
  {
   "cell_type": "code",
   "execution_count": 7,
   "metadata": {
    "execution": {
     "iopub.execute_input": "2020-10-25T09:07:16.638242Z",
     "iopub.status.busy": "2020-10-25T09:07:16.633278Z"
    },
    "papermill": {
     "duration": null,
     "end_time": null,
     "exception": false,
     "start_time": "2020-10-25T09:07:16.612778",
     "status": "running"
    },
    "tags": []
   },
   "outputs": [
    {
     "name": "stdout",
     "output_type": "stream",
     "text": [
      "train 0 ====> Acc@1 16.014 Acc@5 64.560\n",
      "valid 0 ====> Acc@1 26.460 Acc@5 81.580\n",
      "train 1 ====> Acc@1 31.296 Acc@5 85.164\n",
      "valid 1 ====> Acc@1 31.030 Acc@5 85.480\n",
      "train 2 ====> Acc@1 42.508 Acc@5 90.450\n",
      "valid 2 ====> Acc@1 40.770 Acc@5 86.810\n",
      "train 3 ====> Acc@1 54.646 Acc@5 94.780\n",
      "valid 3 ====> Acc@1 53.450 Acc@5 94.650\n",
      "train 4 ====> Acc@1 63.892 Acc@5 96.696\n",
      "valid 4 ====> Acc@1 57.390 Acc@5 94.820\n",
      "train 5 ====> Acc@1 69.438 Acc@5 97.636\n",
      "valid 5 ====> Acc@1 66.830 Acc@5 97.260\n",
      "train 6 ====> Acc@1 73.354 Acc@5 98.162\n",
      "valid 6 ====> Acc@1 68.070 Acc@5 97.550\n",
      "train 7 ====> Acc@1 76.302 Acc@5 98.550\n",
      "valid 7 ====> Acc@1 73.530 Acc@5 98.540\n",
      "train 8 ====> Acc@1 78.568 Acc@5 98.788\n",
      "valid 8 ====> Acc@1 77.310 Acc@5 98.550\n",
      "train 9 ====> Acc@1 80.464 Acc@5 99.052\n",
      "valid 9 ====> Acc@1 74.110 Acc@5 97.460\n",
      "train 10 ====> Acc@1 81.540 Acc@5 99.106\n",
      "valid 10 ====> Acc@1 79.940 Acc@5 99.010\n",
      "train 11 ====> Acc@1 83.090 Acc@5 99.264\n",
      "valid 11 ====> Acc@1 75.810 Acc@5 98.640\n",
      "train 12 ====> Acc@1 84.050 Acc@5 99.298\n",
      "valid 12 ====> Acc@1 79.940 Acc@5 98.990\n",
      "train 13 ====> Acc@1 84.684 Acc@5 99.410\n",
      "valid 13 ====> Acc@1 78.950 Acc@5 98.880\n",
      "train 14 ====> Acc@1 85.512 Acc@5 99.524\n",
      "valid 14 ====> Acc@1 79.250 Acc@5 98.710\n",
      "train 15 ====> Acc@1 86.238 Acc@5 99.510\n",
      "valid 15 ====> Acc@1 78.350 Acc@5 98.620\n",
      "train 16 ====> Acc@1 87.164 Acc@5 99.546\n",
      "valid 16 ====> Acc@1 79.940 Acc@5 98.860\n",
      "train 17 ====> Acc@1 87.534 Acc@5 99.588\n",
      "valid 17 ====> Acc@1 78.310 Acc@5 98.210\n",
      "train 18 ====> Acc@1 87.960 Acc@5 99.654\n",
      "valid 18 ====> Acc@1 82.850 Acc@5 99.080\n",
      "train 19 ====> Acc@1 88.582 Acc@5 99.660\n",
      "valid 19 ====> Acc@1 81.600 Acc@5 99.040\n",
      "train 20 ====> Acc@1 89.398 Acc@5 99.692\n",
      "valid 20 ====> Acc@1 80.740 Acc@5 98.550\n",
      "train 21 ====> Acc@1 89.486 Acc@5 99.730\n",
      "valid 21 ====> Acc@1 82.760 Acc@5 98.970\n",
      "train 22 ====> Acc@1 89.906 Acc@5 99.758\n",
      "valid 22 ====> Acc@1 80.170 Acc@5 99.090\n",
      "train 23 ====> Acc@1 90.038 Acc@5 99.742\n",
      "valid 23 ====> Acc@1 76.440 Acc@5 98.130\n",
      "train 24 ====> Acc@1 90.512 Acc@5 99.800\n",
      "valid 24 ====> Acc@1 81.330 Acc@5 98.890\n",
      "train 25 ====> Acc@1 90.688 Acc@5 99.816\n",
      "valid 25 ====> Acc@1 81.740 Acc@5 99.130\n",
      "train 26 ====> Acc@1 91.172 Acc@5 99.840\n",
      "valid 26 ====> Acc@1 82.960 Acc@5 98.950\n",
      "train 27 ====> Acc@1 91.244 Acc@5 99.824\n",
      "valid 27 ====> Acc@1 80.800 Acc@5 99.090\n",
      "train 28 ====> Acc@1 91.438 Acc@5 99.842\n",
      "valid 28 ====> Acc@1 83.290 Acc@5 99.270\n",
      "train 29 ====> Acc@1 91.744 Acc@5 99.844\n",
      "valid 29 ====> Acc@1 81.730 Acc@5 99.050\n",
      "train 30 ====> Acc@1 91.782 Acc@5 99.852\n",
      "valid 30 ====> Acc@1 83.930 Acc@5 99.270\n",
      "train 31 ====> Acc@1 91.896 Acc@5 99.842\n",
      "valid 31 ====> Acc@1 80.680 Acc@5 99.280\n",
      "train 32 ====> Acc@1 92.364 Acc@5 99.880\n",
      "valid 32 ====> Acc@1 84.510 Acc@5 99.310\n",
      "train 33 ====> Acc@1 92.568 Acc@5 99.882\n",
      "valid 33 ====> Acc@1 82.490 Acc@5 99.100\n",
      "train 34 ====> Acc@1 92.546 Acc@5 99.912\n",
      "valid 34 ====> Acc@1 79.840 Acc@5 98.660\n",
      "train 35 ====> Acc@1 92.906 Acc@5 99.908\n",
      "valid 35 ====> Acc@1 82.630 Acc@5 99.010\n",
      "train 36 ====> Acc@1 92.932 Acc@5 99.916\n",
      "valid 36 ====> Acc@1 82.410 Acc@5 98.930\n",
      "train 37 ====> Acc@1 93.264 Acc@5 99.896\n",
      "valid 37 ====> Acc@1 84.430 Acc@5 99.090\n",
      "train 38 ====> Acc@1 93.322 Acc@5 99.906\n",
      "valid 38 ====> Acc@1 84.220 Acc@5 99.270\n",
      "train 39 ====> Acc@1 93.416 Acc@5 99.928\n",
      "valid 39 ====> Acc@1 83.520 Acc@5 99.470\n",
      "train 40 ====> Acc@1 92.992 Acc@5 99.924\n",
      "valid 40 ====> Acc@1 85.010 Acc@5 99.180\n",
      "train 41 ====> Acc@1 93.746 Acc@5 99.928\n",
      "valid 41 ====> Acc@1 83.050 Acc@5 99.200\n",
      "train 42 ====> Acc@1 93.514 Acc@5 99.918\n",
      "valid 42 ====> Acc@1 84.360 Acc@5 98.800\n",
      "train 43 ====> Acc@1 93.810 Acc@5 99.936\n",
      "valid 43 ====> Acc@1 86.210 Acc@5 99.410\n"
     ]
    }
   ],
   "source": [
    "##### main 함수 보고 train 짜기\n",
    "best_acc1 = 0.0\n",
    "for epoch in range(epochs):\n",
    "    \n",
    "    acc1_train_cor, acc5_train_cor = train(trainloader, epoch=epoch, model=model, \n",
    "                                       criterion=criterion, optimizer=optimizer, device=device)\n",
    "    acc1_valid_cor, acc5_valid_cor = validate(testloader, epoch=epoch, model=model, criterion=criterion, device=device)\n",
    "    \n",
    "    acc1_train = round(acc1_train_cor.item(), 4)\n",
    "    acc5_train = round(acc5_train_cor.item(), 4)\n",
    "    acc1_valid = round(acc1_valid_cor.item(), 4)\n",
    "    acc5_valid = round(acc5_valid_cor.item(), 4)\n",
    "\n",
    "    # remember best Acc@1 and save checkpoint and summary csv file\n",
    "#     summary = [epoch, acc1_train, acc5_train, acc1_valid, acc5_valid]\n",
    "\n",
    "    is_best = acc1_valid > best_acc1\n",
    "    best_acc1 = max(acc1_valid, best_acc1)\n",
    "    if is_best:\n",
    "        summary = [epoch, acc1_train, acc5_train, acc1_valid, acc5_valid]\n",
    "#         save_model(arch_name, args.dataset, state, args.save)\n",
    "#     save_summary(arch_name, args.dataset, args.save.split('.pth')[0], summary)\n",
    "\n",
    "summary"
   ]
  },
  {
   "cell_type": "code",
   "execution_count": null,
   "metadata": {
    "papermill": {
     "duration": null,
     "end_time": null,
     "exception": null,
     "start_time": null,
     "status": "pending"
    },
    "tags": []
   },
   "outputs": [],
   "source": [
    "# # print(len(trainloader))\n",
    "# # epochs = 10\n",
    "# # device = 'cpu'\n",
    "\n",
    "# # epochs = 1\n",
    "# for epoch in range(epochs):  # loop over the dataset multiple times\n",
    "\n",
    "#     running_loss = 0.0\n",
    "#     lr_sche.step()\n",
    "#     for i, data in enumerate(trainloader, 0):\n",
    "#         # get the inputs\n",
    "#         inputs, labels = data\n",
    "#         inputs = inputs #.to(device)\n",
    "#         labels = labels #.to(device)\n",
    "\n",
    "#         # zero the parameter gradients\n",
    "#         optimizer.zero_grad()\n",
    "\n",
    "#         # forward + backward + optimize\n",
    "#         outputs = model(inputs)\n",
    "#         loss = criterion(outputs, labels)\n",
    "#         loss.backward()\n",
    "#         optimizer.step()\n",
    "\n",
    "#         # print statistics\n",
    "#         running_loss += loss.item()\n",
    "#         if i % 30 == 29:    # print every 30 mini-batches\n",
    "#             # value_tracker(loss_plt, torch.Tensor([running_loss/30]), torch.Tensor([i + epoch*len(trainloader) ]))\n",
    "#             print('[%d, %5d] loss: %.3f' %\n",
    "#                   (epoch + 1, i + 1, running_loss / 30))\n",
    "#             running_loss = 0.0\n",
    "    \n",
    "#     #Check Accuracy\n",
    "# #     acc = acc_check(model, testloader, epoch, save=1)\n",
    "#     # value_tracker(acc_plt, torch.Tensor([acc]), torch.Tensor([epoch]))\n",
    "    \n",
    "\n",
    "# print('Finished Training')"
   ]
  },
  {
   "cell_type": "code",
   "execution_count": null,
   "metadata": {
    "papermill": {
     "duration": null,
     "end_time": null,
     "exception": null,
     "start_time": null,
     "status": "pending"
    },
    "tags": []
   },
   "outputs": [],
   "source": []
  }
 ],
 "metadata": {
  "kernelspec": {
   "display_name": "Python 3",
   "language": "python",
   "name": "python3"
  },
  "language_info": {
   "codemirror_mode": {
    "name": "ipython",
    "version": 3
   },
   "file_extension": ".py",
   "mimetype": "text/x-python",
   "name": "python",
   "nbconvert_exporter": "python",
   "pygments_lexer": "ipython3",
   "version": "3.7.7"
  },
  "papermill": {
   "duration": null,
   "end_time": null,
   "environment_variables": {},
   "exception": null,
   "input_path": "__notebook__.ipynb",
   "output_path": "__notebook__.ipynb",
   "parameters": {},
   "start_time": "2020-10-25T09:07:04.047976",
   "version": "2.1.0"
  }
 },
 "nbformat": 4,
 "nbformat_minor": 4
}
